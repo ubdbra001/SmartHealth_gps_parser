{
 "cells": [
  {
   "cell_type": "code",
   "execution_count": null,
   "id": "6c0ca1c2",
   "metadata": {},
   "outputs": [],
   "source": [
    "import json\n",
    "import pickle\n",
    "from pathlib import Path\n",
    "import geopandas as gp"
   ]
  },
  {
   "cell_type": "code",
   "execution_count": null,
   "id": "f6a7faf3",
   "metadata": {},
   "outputs": [],
   "source": [
    "data_dir = Path(\"../data\").resolve()"
   ]
  },
  {
   "cell_type": "markdown",
   "id": "1df057f0",
   "metadata": {},
   "source": [
    "Load data"
   ]
  },
  {
   "cell_type": "code",
   "execution_count": null,
   "id": "a1cd7046",
   "metadata": {},
   "outputs": [],
   "source": [
    "file_name = \"synth_data.json\"\n",
    "test_data_location = data_dir / file_name\n",
    "\n",
    "with open(test_data_location, \"r\") as file:\n",
    "    data = json.load(file)"
   ]
  },
  {
   "cell_type": "markdown",
   "id": "f37c52ac",
   "metadata": {},
   "source": [
    "Extract time series"
   ]
  },
  {
   "cell_type": "code",
   "execution_count": null,
   "id": "1f9df384",
   "metadata": {},
   "outputs": [],
   "source": [
    "time_series = data[\"gps-coordinates\"][\"dataset\"]"
   ]
  },
  {
   "cell_type": "markdown",
   "id": "a2e3ec32",
   "metadata": {},
   "source": [
    "Put time series in GeoDataFrame and tidy "
   ]
  },
  {
   "cell_type": "code",
   "execution_count": null,
   "id": "5a53d656",
   "metadata": {},
   "outputs": [],
   "source": [
    "gps_gdf = gp.GeoDataFrame(time_series)\n",
    "gps_gdf.rename(columns={\"d\":\"datetime\"}, inplace=True)\n",
    "gps_gdf[\"datetime\"] = gp.pd.to_datetime(gps_gdf[\"datetime\"], format=\"%Y-%m-%dT%H:%M:%S\")\n",
    "gps_gdf.set_index(\"datetime\",inplace=True)\n"
   ]
  },
  {
   "cell_type": "markdown",
   "id": "2748f12c",
   "metadata": {},
   "source": [
    "Set geometry from the raw GPS coordinates"
   ]
  },
  {
   "cell_type": "code",
   "execution_count": null,
   "id": "c27626b0",
   "metadata": {},
   "outputs": [],
   "source": [
    "gps_trace = gp.GeoSeries.from_xy(gps_gdf[\"long\"], gps_gdf[\"lat\"], crs = 'EPSG:4326')\n",
    "gps_gdf.set_geometry(gps_trace,inplace=True)\n",
    "gps_gdf"
   ]
  },
  {
   "cell_type": "markdown",
   "id": "edde0da7",
   "metadata": {},
   "source": [
    "Generate distance travelled between subsequent GPS coordinates.  \n",
    "Uses [EPSG: 27700 Coordinate reference system](https://spatialreference.org/ref/epsg/27700/) following [UK Gov guidance](https://www.gov.uk/guidance/uk-geospatial-data-standards-coordinate-reference-systems)"
   ]
  },
  {
   "cell_type": "code",
   "execution_count": null,
   "id": "d0804dfe",
   "metadata": {},
   "outputs": [],
   "source": [
    "gps_trace_326 = gps_trace.to_crs(epsg=\"27700\") \n",
    "distances = gps_trace_326.distance(gps_trace_326.shift())"
   ]
  },
  {
   "cell_type": "markdown",
   "id": "fa788272",
   "metadata": {},
   "source": [
    "Add distance travelled into GeoDataFrame, rounded to 3 decimal places (to the cm level)"
   ]
  },
  {
   "cell_type": "code",
   "execution_count": null,
   "id": "ffb6b05f",
   "metadata": {},
   "outputs": [],
   "source": [
    "decimal_places = 3\n",
    "\n",
    "gps_gdf[\"dist_travelled\"] = distances.round(decimal_places)\n",
    "gps_gdf"
   ]
  },
  {
   "cell_type": "markdown",
   "id": "fb6c6bcf",
   "metadata": {},
   "source": [
    "Load the LSOA reference file"
   ]
  },
  {
   "cell_type": "code",
   "execution_count": null,
   "id": "9d35530a",
   "metadata": {},
   "outputs": [],
   "source": [
    "alllsoas_path = data_dir / \"all_lsoas.pkl\"\n",
    "\n",
    "with open(alllsoas_path, \"rb\") as lsoa_file:\n",
    "    all_lsoas = pickle.load(lsoa_file)"
   ]
  },
  {
   "cell_type": "markdown",
   "id": "8058dc22",
   "metadata": {},
   "source": [
    "Use a GeoPandas sjoin to left join the GPS geometry and LSOA info based on wether the GPS is within a particular LSOA"
   ]
  },
  {
   "cell_type": "code",
   "execution_count": null,
   "id": "7e3a0613",
   "metadata": {},
   "outputs": [],
   "source": [
    "gps_lsoa_gdf = gps_gdf.sjoin(all_lsoas, how=\"left\", predicate=\"within\")"
   ]
  },
  {
   "cell_type": "markdown",
   "id": "baa1600f",
   "metadata": {},
   "source": [
    "Drop Columns no longer needed"
   ]
  },
  {
   "cell_type": "code",
   "execution_count": null,
   "id": "198f0a28",
   "metadata": {},
   "outputs": [],
   "source": [
    "pseudo_gdf = gps_lsoa_gdf.drop(columns=[\"lat\", \"long\", \"geometry\", \"index_right\"])\n",
    "pseudo_gdf"
   ]
  },
  {
   "cell_type": "markdown",
   "id": "3c361e94",
   "metadata": {},
   "source": [
    "Aggregate over 1 minute windows.  \n",
    "- Number of data points in window  \n",
    "- Sum of diatnace travelled\n",
    "- Mode of LSOA21CD (LSOA21 code)\n",
    "- Mode of LSOA21NM (LSOA21 name)"
   ]
  },
  {
   "cell_type": "code",
   "execution_count": null,
   "id": "8caaf389",
   "metadata": {},
   "outputs": [],
   "source": [
    "grouper = gp.pd.Grouper(freq='1min')\n",
    "\n",
    "grouped_pseudo_df = pseudo_gdf.groupby(grouper).agg({\"dist_travelled\":[\"count\", \"sum\"],\n",
    "                                                     \"LSOA21CD\": gp.pd.Series.mode,\n",
    "                                                     \"LSOA21NM\": gp.pd.Series.mode})\n",
    "grouped_pseudo_df"
   ]
  },
  {
   "cell_type": "markdown",
   "id": "c796b75c",
   "metadata": {},
   "source": [
    "Save the data"
   ]
  },
  {
   "cell_type": "code",
   "execution_count": null,
   "id": "8ec1f2b9",
   "metadata": {},
   "outputs": [],
   "source": [
    "header = (\"n_data_points\", \"dist_travelled\", \"LSOA21CD_Mode\", \"LSOA21NM_Mode\")\n",
    "\n",
    "out_path = data_dir / \"gps_out.csv\"\n",
    "\n",
    "grouped_pseudo_df.to_csv(out_path, header=header)"
   ]
  }
 ],
 "metadata": {
  "kernelspec": {
   "display_name": "gps-parser",
   "language": "python",
   "name": "python3"
  },
  "language_info": {
   "codemirror_mode": {
    "name": "ipython",
    "version": 3
   },
   "file_extension": ".py",
   "mimetype": "text/x-python",
   "name": "python",
   "nbconvert_exporter": "python",
   "pygments_lexer": "ipython3",
   "version": "3.12.3"
  }
 },
 "nbformat": 4,
 "nbformat_minor": 5
}
