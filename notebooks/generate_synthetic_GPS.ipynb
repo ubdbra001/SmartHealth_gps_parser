{
 "cells": [
  {
   "cell_type": "code",
   "execution_count": null,
   "id": "75a0a8bd",
   "metadata": {},
   "outputs": [],
   "source": [
    "from gps_parser.synthetic_data import SynthGPSGen\n",
    "from datetime import datetime"
   ]
  },
  {
   "cell_type": "markdown",
   "id": "aaaed348",
   "metadata": {},
   "source": [
    "Set starting points"
   ]
  },
  {
   "cell_type": "code",
   "execution_count": null,
   "id": "2f828a6f",
   "metadata": {},
   "outputs": [],
   "source": [
    "starting_coords = {\"latitude\": 53.3806626, \"longitude\": -1.4702278} # lat, long - Centre of Sheffield\n",
    "starting_time = datetime.now()"
   ]
  },
  {
   "cell_type": "markdown",
   "id": "06bddc28",
   "metadata": {},
   "source": [
    "Define journey sections"
   ]
  },
  {
   "cell_type": "code",
   "execution_count": null,
   "id": "f5fe0392",
   "metadata": {},
   "outputs": [],
   "source": [
    "journey_sections = [\n",
    "    {\"speed\": 1, \"duration\": 1440, \"orient_change_range\": 5},\n",
    "]"
   ]
  },
  {
   "cell_type": "markdown",
   "id": "dfbb6a2c",
   "metadata": {},
   "source": [
    "Define interval parameters"
   ]
  },
  {
   "cell_type": "code",
   "execution_count": null,
   "id": "910a0be2",
   "metadata": {},
   "outputs": [],
   "source": [
    "interval_params = {\n",
    "    \"average\": 10,\n",
    "    \"lower\": 5,\n",
    "    \"upper\": 15\n",
    "}"
   ]
  },
  {
   "cell_type": "markdown",
   "id": "95ac18cb",
   "metadata": {},
   "source": [
    "Instansiate SynthGPS object"
   ]
  },
  {
   "cell_type": "code",
   "execution_count": null,
   "id": "2409e642",
   "metadata": {},
   "outputs": [],
   "source": [
    "SynthGPS = SynthGPSGen(\n",
    "    journey_params=journey_sections,\n",
    "    sampling_params=interval_params,\n",
    "    starting_time=starting_time,\n",
    "    staring_coords=starting_coords,\n",
    "    starting_orientation=0,\n",
    ")"
   ]
  },
  {
   "cell_type": "markdown",
   "id": "902ca882",
   "metadata": {},
   "source": [
    "Generate journey and ouput dict (mimic data structure from DAISER)"
   ]
  },
  {
   "cell_type": "code",
   "execution_count": null,
   "id": "74e4c521",
   "metadata": {},
   "outputs": [],
   "source": [
    "SynthGPS.generate_journey()\n",
    "SynthGPS.generate_output_dict()"
   ]
  },
  {
   "cell_type": "code",
   "execution_count": null,
   "id": "abea6857",
   "metadata": {},
   "outputs": [],
   "source": [
    "gps_points = SynthGPS.gps_points\n",
    "times = SynthGPS.time_points"
   ]
  },
  {
   "cell_type": "markdown",
   "id": "3b32a4d1",
   "metadata": {},
   "source": [
    "Save output as JSON"
   ]
  },
  {
   "cell_type": "code",
   "execution_count": null,
   "id": "57576ed6",
   "metadata": {},
   "outputs": [],
   "source": [
    "\n",
    "file_path = \"../data/synth_data.json\"\n",
    "\n",
    "SynthGPS.save_output_json(file_name=file_path)"
   ]
  },
  {
   "cell_type": "markdown",
   "id": "e39dadfd",
   "metadata": {},
   "source": [
    "Preview the track generated"
   ]
  },
  {
   "cell_type": "code",
   "execution_count": null,
   "id": "ec2227c5",
   "metadata": {},
   "outputs": [],
   "source": [
    "import geopandas as gpd"
   ]
  },
  {
   "cell_type": "code",
   "execution_count": null,
   "id": "79140280",
   "metadata": {},
   "outputs": [],
   "source": [
    "lon_points = [point.longitude for point in gps_points]\n",
    "lat_points = [point.latitude for point in gps_points]"
   ]
  },
  {
   "cell_type": "code",
   "execution_count": null,
   "id": "ace8a84e",
   "metadata": {},
   "outputs": [],
   "source": [
    "series = gpd.GeoSeries.from_xy(lon_points, lat_points, crs = 'EPSG:4326')\n",
    "series.explore()"
   ]
  },
  {
   "cell_type": "code",
   "execution_count": null,
   "id": "6e512d90",
   "metadata": {},
   "outputs": [],
   "source": [
    "import numpy as np"
   ]
  },
  {
   "cell_type": "code",
   "execution_count": null,
   "id": "d3424bc1",
   "metadata": {},
   "outputs": [],
   "source": [
    "times = np.array(SynthGPS.time_points)\n",
    "distances = np.insert(SynthGPS.distances,0,np.nan)"
   ]
  },
  {
   "cell_type": "code",
   "execution_count": null,
   "id": "36f14004",
   "metadata": {},
   "outputs": [],
   "source": [
    "dist_array = np.vstack((times,distances)).transpose()"
   ]
  }
 ],
 "metadata": {
  "kernelspec": {
   "display_name": "gps-parser",
   "language": "python",
   "name": "python3"
  },
  "language_info": {
   "codemirror_mode": {
    "name": "ipython",
    "version": 3
   },
   "file_extension": ".py",
   "mimetype": "text/x-python",
   "name": "python",
   "nbconvert_exporter": "python",
   "pygments_lexer": "ipython3",
   "version": "3.12.3"
  }
 },
 "nbformat": 4,
 "nbformat_minor": 5
}
