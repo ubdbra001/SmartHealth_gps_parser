{
 "cells": [
  {
   "cell_type": "code",
   "execution_count": null,
   "id": "ae5dd3d6",
   "metadata": {},
   "outputs": [],
   "source": [
    "import requests\n",
    "import pickle\n",
    "import geopandas as gpd\n",
    "from pathlib import Path"
   ]
  },
  {
   "cell_type": "markdown",
   "id": "d258ff7b",
   "metadata": {},
   "source": [
    "Set Endpoint for ONS Open Geography Portal (OGP) API"
   ]
  },
  {
   "cell_type": "code",
   "execution_count": null,
   "id": "db8af70f",
   "metadata": {},
   "outputs": [],
   "source": [
    "ENDPOINT = \"https://services1.arcgis.com/ESMARspQHYMw9BZ9/arcgis/rest/services/Lower_layer_Super_Output_Areas_December_2021_Boundaries_EW_BSC_V4/FeatureServer/0/query\""
   ]
  },
  {
   "cell_type": "markdown",
   "id": "b28904a2",
   "metadata": {},
   "source": [
    "Function for making requests to OGP and returing results as a GeoDataframe"
   ]
  },
  {
   "cell_type": "code",
   "execution_count": null,
   "id": "e39e3ebe",
   "metadata": {},
   "outputs": [],
   "source": [
    "def request_to_gdf(url: str, query_params: dict) -> gpd.GeoDataFrame:\n",
    "    query_params[\"f\"] = \"geoJSON\"\n",
    "    response = requests.get(url, query_params)\n",
    "    if response.ok:\n",
    "        content = response.json()\n",
    "        return (\n",
    "            response,\n",
    "            gpd.GeoDataFrame.from_features(\n",
    "                content[\"features\"],\n",
    "                crs=content[\"crs\"][\"properties\"][\"name\"]\n",
    "            )\n",
    "        )\n",
    "    else:\n",
    "        raise requests.RequestException(\n",
    "            f\"HTTP Code: {response.status_code}, Status: {response.reason}\"\n",
    "        )"
   ]
  },
  {
   "cell_type": "markdown",
   "id": "5217e8c1",
   "metadata": {},
   "source": [
    "Query params for getting all LSOA data  \n",
    "Requests only the 'code' (LSOA21CD) and 'name' (LSOA21NM) columns for LSOA "
   ]
  },
  {
   "cell_type": "code",
   "execution_count": null,
   "id": "ce62a709",
   "metadata": {},
   "outputs": [],
   "source": [
    "params = {\n",
    "    \"where\": \"1=1\",\n",
    "    \"outSR\": 4326,\n",
    "    \"f\": \"geoJSON\",\n",
    "    \"resultOffset\": 0,\n",
    "    \"outFields\": \"LSOA21CD, LSOA21NM\"\n",
    "}"
   ]
  },
  {
   "cell_type": "markdown",
   "id": "d2cf7dad",
   "metadata": {},
   "source": [
    "Results are paginated, so use a loop to grab more pages and concatenate into one big dataframe"
   ]
  },
  {
   "cell_type": "code",
   "execution_count": null,
   "id": "91625c20",
   "metadata": {},
   "outputs": [],
   "source": [
    "more_pages = True\n",
    "offset = 0\n",
    "\n",
    "resp, gdf = request_to_gdf(ENDPOINT, params)\n",
    "\n",
    "offset = len(gdf)\n",
    "\n",
    "all_lsoas = gdf\n",
    "while more_pages:\n",
    "    try:\n",
    "        params[\"resultOffset\"] += offset\n",
    "        response, gdf = request_to_gdf(ENDPOINT, params)\n",
    "        content = response.json()\n",
    "        all_lsoas = gpd.pd.concat([all_lsoas, gdf])\n",
    "        more_pages = content[\"properties\"][\"exceededTransferLimit\"]\n",
    "        offset = len(gdf)\n",
    "\n",
    "    except KeyError:\n",
    "        more_pages = False\n",
    "\n",
    "all_lsoas = all_lsoas.reset_index(drop=True)"
   ]
  },
  {
   "cell_type": "markdown",
   "id": "6ec76e31",
   "metadata": {},
   "source": [
    "There should be 35672 LSOAs and 3 columns (geometry, LSOA21CD, LSOA21NM)"
   ]
  },
  {
   "cell_type": "code",
   "execution_count": null,
   "id": "0fc05f47",
   "metadata": {},
   "outputs": [],
   "source": [
    "print(f\"Rows: {all_lsoas.shape[0]}\")\n",
    "print(f\"Column headings: {all_lsoas.columns}\")"
   ]
  },
  {
   "cell_type": "markdown",
   "id": "883c040a",
   "metadata": {},
   "source": [
    "Make a data directory (if ti doesn't already exist) and save the data as a pkl."
   ]
  },
  {
   "cell_type": "code",
   "execution_count": null,
   "id": "9b6903e5",
   "metadata": {},
   "outputs": [],
   "source": [
    "all_lsoas_file = Path(\"../data/all_lsoas.pkl\").resolve()\n",
    "all_lsoas_file.parent.mkdir(exist_ok=True)\n",
    "\n",
    "with open(all_lsoas_file, \"wb\") as lsoas_file:\n",
    "    pickle.dump(all_lsoas, lsoas_file)"
   ]
  }
 ],
 "metadata": {
  "kernelspec": {
   "display_name": "gps-parser",
   "language": "python",
   "name": "python3"
  },
  "language_info": {
   "codemirror_mode": {
    "name": "ipython",
    "version": 3
   },
   "file_extension": ".py",
   "mimetype": "text/x-python",
   "name": "python",
   "nbconvert_exporter": "python",
   "pygments_lexer": "ipython3",
   "version": "3.12.3"
  }
 },
 "nbformat": 4,
 "nbformat_minor": 5
}
